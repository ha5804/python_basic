{
 "cells": [
  {
   "cell_type": "markdown",
   "metadata": {},
   "source": [
    "# 이항계수\n",
    "\n",
    "    (1)map(int, input().split())\n",
    "\n",
    "map함수는 반복 가능한 객체에 대해서 특정 타입으로 반환해준다.\n",
    "\n",
    "    (2)factorial()\n",
    "\n",
    "factorial은 n! = n * n-1 * n-2 * ... * 1 로 줄어들면서 곱하는 공식이다.\n",
    "\n",
    "이를 구현하기 위해 for문을 통해 2 부터 n까지 i를 증가시키며 result에 곱하고 반환하자.\n",
    "\n",
    "이때 0!은 1이므로 for문은 반복하지 않는다.\n",
    "\n"
   ]
  },
  {
   "cell_type": "code",
   "execution_count": null,
   "metadata": {},
   "outputs": [
    {
     "name": "stdout",
     "output_type": "stream",
     "text": [
      "60\n"
     ]
    }
   ],
   "source": [
    "a, b = map(int, input().split())\n",
    "\n",
    "def factorial(n):\n",
    "    result = 1\n",
    "    for i in range(2, n+1):\n",
    "        result *= i\n",
    "    return result\n",
    "\n",
    "value = factorial(a) // (factorial(b) * factorial(a - b))\n",
    "print(value)"
   ]
  },
  {
   "cell_type": "markdown",
   "metadata": {},
   "source": [
    "# 오름차순 정렬\n",
    "\n",
    "    sorted(list)"
   ]
  },
  {
   "cell_type": "code",
   "execution_count": null,
   "metadata": {},
   "outputs": [
    {
     "name": "stdout",
     "output_type": "stream",
     "text": [
      "<generator object <genexpr> at 0x10422e740>\n"
     ]
    }
   ],
   "source": [
    "import sys\n",
    "N = int(sys.stdin.readline())\n",
    "num_list = [int(sys.stdin.readline()) for i in range(N)]\n",
    "num_list.sort()\n",
    "\n",
    "for i in num_list:\n",
    "    print(i)"
   ]
  },
  {
   "cell_type": "markdown",
   "metadata": {},
   "source": [
    "# 좌표 정렬하기\n",
    "\n",
    "쌍으로 받을때는 tuple 이 유리하다."
   ]
  },
  {
   "cell_type": "code",
   "execution_count": null,
   "metadata": {},
   "outputs": [],
   "source": [
    "import sys\n",
    "N = int(sys.stdin.readline())\n",
    "\n",
    "\n",
    "coordinate = [tuple(map(int, sys.stdin.readline().split())) for i in range(N)]\n",
    "\n",
    "coordinate.sort()\n",
    "\n",
    "for x, y in coordinate:\n",
    "    print(x, y)\n",
    "    \n"
   ]
  },
  {
   "cell_type": "markdown",
   "metadata": {},
   "source": [
    "# 체스판 칠하기"
   ]
  },
  {
   "cell_type": "markdown",
   "metadata": {},
   "source": [
    "한 색을 칠하고 그옆은 무조건 다른 색이 나와야한다.\n",
    "\n",
    "    # 1 색칠 하기\n",
    "\n",
    "(1)시작칸을 0이라고 했을때 한 행의 짝수번째는 시작색과 모두 동일하다.\n",
    "\n",
    "(2)그 옆칸은 1 이되고, 홀수번째 칸은 모두 짝수번째에 따라 달라진다.\n",
    "\n",
    "(3)8 * 8 의 범위가 들어왔을때\n",
    "\n",
    "    # 2 8*8 범위 찾기.\n",
    "\n"
   ]
  },
  {
   "cell_type": "code",
   "execution_count": null,
   "metadata": {},
   "outputs": [
    {
     "name": "stdout",
     "output_type": "stream",
     "text": [
      "2 6\n"
     ]
    }
   ],
   "source": [
    "m , n = map(int, input().split())\n",
    "board = [input() for _ in range(m)]\n",
    "min_count = float('inf')\n",
    "\n",
    "for i in range(m - 7):\n",
    "    for j in range(n - 7):\n",
    "        repaint_count = 0\n",
    "        repaint_count_2 = 0\n",
    "\n",
    "        for a in range(8):\n",
    "            for b in range(8):\n",
    "                current = board[i+x][j+y]\n",
    "                if (a + b) % 2 == 0:\n",
    "                    if board[a][b] != 'B':\n",
    "                        repaint_count += 1\n",
    "                    if board[a][b] != \"W\":\n",
    "                        repaint_count_2 +=1\n",
    "                else:\n",
    "                    if board[a][b] != \"W\":\n",
    "                        repaint_count +=1\n",
    "                    if board[a][b] != \"B\":\n",
    "                        repaint_count_2 +=1\n",
    "\n",
    "    min_count = min(min_count, repaint_count, repaint_count_2)\n",
    "\n",
    "print(min_count)\n",
    "\n",
    "        \n",
    "\n",
    "\n",
    "                \n",
    "\n",
    "\n",
    "        \n",
    "\n",
    "        \n",
    "        \n",
    "        \n",
    "\n",
    "\n"
   ]
  }
 ],
 "metadata": {
  "kernelspec": {
   "display_name": "Python 3",
   "language": "python",
   "name": "python3"
  },
  "language_info": {
   "codemirror_mode": {
    "name": "ipython",
    "version": 3
   },
   "file_extension": ".py",
   "mimetype": "text/x-python",
   "name": "python",
   "nbconvert_exporter": "python",
   "pygments_lexer": "ipython3",
   "version": "3.13.2"
  }
 },
 "nbformat": 4,
 "nbformat_minor": 2
}
