{
 "cells": [
  {
   "cell_type": "markdown",
   "metadata": {},
   "source": [
    "# 이항계수\n",
    "\n",
    "    (1)map(int, input().split())\n",
    "\n",
    "map함수는 반복 가능한 객체에 대해서 특정 타입으로 반환해준다.\n",
    "\n",
    "    (2)factorial()\n",
    "\n",
    "factorial은 n! = n * n-1 * n-2 * ... * 1 로 줄어들면서 곱하는 공식이다.\n",
    "\n",
    "이를 구현하기 위해 for문을 통해 2 부터 n까지 i를 증가시키며 result에 곱하고 반환하자.\n",
    "\n",
    "이때 0!은 1이므로 for문은 반복하지 않는다.\n",
    "\n"
   ]
  },
  {
   "cell_type": "code",
   "execution_count": null,
   "metadata": {},
   "outputs": [
    {
     "name": "stdout",
     "output_type": "stream",
     "text": [
      "60\n"
     ]
    }
   ],
   "source": [
    "a, b = map(int, input().split())\n",
    "\n",
    "def factorial(n):\n",
    "    result = 1\n",
    "    for i in range(2, n+1):\n",
    "        result *= i\n",
    "    return result\n",
    "\n",
    "value = factorial(a) // (factorial(b) * factorial(a - b))\n",
    "print(value)"
   ]
  },
  {
   "cell_type": "markdown",
   "metadata": {},
   "source": [
    "# 오름차순 정렬\n",
    "\n",
    "    sorted(list)"
   ]
  },
  {
   "cell_type": "code",
   "execution_count": null,
   "metadata": {},
   "outputs": [
    {
     "name": "stdout",
     "output_type": "stream",
     "text": [
      "<generator object <genexpr> at 0x10422e740>\n"
     ]
    }
   ],
   "source": [
    "N = int(input())\n",
    "num_list = [int(input()) for i in range(N)]\n",
    "num_list_sorted = sorted(num_list)\n",
    "for i in num_list_sorted:\n",
    "    print(i)"
   ]
  },
  {
   "cell_type": "markdown",
   "metadata": {},
   "source": [
    "# 좌표 정렬하기"
   ]
  },
  {
   "cell_type": "code",
   "execution_count": null,
   "metadata": {},
   "outputs": [],
   "source": [
    "N = int(input())\n",
    "x_list = []\n",
    "y_list = []\n",
    "for i in range(N):\n",
    "    x = int(input())\n",
    "    y = int(input())\n",
    "    x_list.append(x)\n",
    "    y_list.append(y)\n",
    "    \n"
   ]
  }
 ],
 "metadata": {
  "kernelspec": {
   "display_name": "Python 3",
   "language": "python",
   "name": "python3"
  },
  "language_info": {
   "codemirror_mode": {
    "name": "ipython",
    "version": 3
   },
   "file_extension": ".py",
   "mimetype": "text/x-python",
   "name": "python",
   "nbconvert_exporter": "python",
   "pygments_lexer": "ipython3",
   "version": "3.13.2"
  }
 },
 "nbformat": 4,
 "nbformat_minor": 2
}
