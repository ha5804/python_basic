{
 "cells": [
  {
   "cell_type": "markdown",
   "metadata": {},
   "source": [
    "# 이항계수\n",
    "\n",
    "    (1)map(int, input().split())\n",
    "\n",
    "map함수는 반복 가능한 객체에 대해서 특정 타입으로 반환해준다.\n",
    "\n",
    "    (2)factorial()\n",
    "\n",
    "factorial은 n! = n * n-1 * n-2 * ... * 1 로 줄어들면서 곱하는 공식이다.\n",
    "\n",
    "이를 구현하기 위해 for문을 통해 2 부터 n까지 i를 증가시키며 result에 곱하고 반환하자.\n",
    "\n",
    "이때 0!은 1이므로 for문은 반복하지 않는다.\n",
    "\n"
   ]
  },
  {
   "cell_type": "code",
   "execution_count": null,
   "metadata": {},
   "outputs": [
    {
     "name": "stdout",
     "output_type": "stream",
     "text": [
      "60\n"
     ]
    }
   ],
   "source": [
    "a, b = map(int, input().split())\n",
    "\n",
    "def factorial(n):\n",
    "    result = 1\n",
    "    for i in range(2, n+1):\n",
    "        result *= i\n",
    "    return result\n",
    "\n",
    "value = factorial(a) // (factorial(b) * factorial(a - b))\n",
    "print(value)"
   ]
  },
  {
   "cell_type": "markdown",
   "metadata": {},
   "source": [
    "# 오름차순 정렬\n",
    "\n",
    "    sorted(list)"
   ]
  },
  {
   "cell_type": "code",
   "execution_count": null,
   "metadata": {},
   "outputs": [
    {
     "name": "stdout",
     "output_type": "stream",
     "text": [
      "<generator object <genexpr> at 0x10422e740>\n"
     ]
    }
   ],
   "source": [
    "import sys\n",
    "N = int(sys.stdin.readline())\n",
    "num_list = [int(sys.stdin.readline()) for i in range(N)]\n",
    "num_list.sort()\n",
    "\n",
    "for i in num_list:\n",
    "    print(i)"
   ]
  },
  {
   "cell_type": "markdown",
   "metadata": {},
   "source": [
    "# 좌표 정렬하기\n",
    "\n",
    "쌍으로 받을때는 tuple 이 유리하다."
   ]
  },
  {
   "cell_type": "code",
   "execution_count": null,
   "metadata": {},
   "outputs": [],
   "source": [
    "import sys\n",
    "N = int(sys.stdin.readline())\n",
    "\n",
    "\n",
    "coordinate = [tuple(map(int, sys.stdin.readline().split())) for i in range(N)]\n",
    "\n",
    "coordinate.sort()\n",
    "\n",
    "for x, y in coordinate:\n",
    "    print(x, y)\n",
    "    \n"
   ]
  },
  {
   "cell_type": "markdown",
   "metadata": {},
   "source": [
    "# 체스판 칠하기"
   ]
  },
  {
   "cell_type": "markdown",
   "metadata": {},
   "source": [
    "한 색을 칠하고 그옆은 무조건 다른 색이 나와야한다.\n",
    "\n",
    "    # 1 색칠 하기\n",
    "\n",
    "(1)시작칸을 0이라고 했을때 한 행의 짝수번째는 시작색과 모두 동일하다.\n",
    "\n",
    "(2)그 옆칸은 1 이되고, 홀수번째 칸은 모두 짝수번째에 따라 달라진다.\n",
    "\n",
    "(3)8 * 8 의 범위가 들어왔을때\n",
    "\n",
    "    # 2 8*8 범위 찾기.\n",
    "\n"
   ]
  },
  {
   "cell_type": "code",
   "execution_count": null,
   "metadata": {},
   "outputs": [
    {
     "name": "stdout",
     "output_type": "stream",
     "text": [
      "2 6\n"
     ]
    }
   ],
   "source": [
    "m , n = map(int, input().split())\n",
    "board = [input() for _ in range(m)]\n",
    "min_count = float('inf')\n",
    "\n",
    "for i in range(m - 7):\n",
    "    for j in range(n - 7):\n",
    "        repaint_B = 0  \n",
    "        repaint_W = 0  \n",
    "\n",
    "        for x in range(8):\n",
    "            for y in range(8):\n",
    "                current = board[i + x][j + y]\n",
    "                if (x + y) % 2 == 0:\n",
    "                    if current != 'B':\n",
    "                        repaint_B += 1\n",
    "                    if current != 'W':\n",
    "                        repaint_W += 1\n",
    "                else:\n",
    "                    if current != 'W':\n",
    "                        repaint_B += 1\n",
    "                    if current != 'B':\n",
    "                        repaint_W += 1\n",
    "\n",
    "        min_count = min(min_count, repaint_B, repaint_W)\n",
    "\n",
    "print(min_count)"
   ]
  },
  {
   "cell_type": "code",
   "execution_count": null,
   "metadata": {},
   "outputs": [
    {
     "name": "stdout",
     "output_type": "stream",
     "text": [
      "1\n",
      "1\n",
      "0\n",
      "0\n",
      "1\n"
     ]
    }
   ],
   "source": [
    "import sys\n",
    "n = int(sys.stdin.readline())\n",
    "num = set(map(int, sys.stdin.readline().split()))\n",
    "m = int(sys.stdin.readline())\n",
    "num_2 = list(map(int, sys.stdin.readline().split()))\n",
    "\n",
    "for i in num_2:\n",
    "    if i in num:\n",
    "        print(1)\n",
    "    else:\n",
    "        print(0)"
   ]
  },
  {
   "cell_type": "code",
   "execution_count": 7,
   "metadata": {},
   "outputs": [
    {
     "name": "stdout",
     "output_type": "stream",
     "text": [
      "[2, 3]\n"
     ]
    }
   ],
   "source": [
    "n = [1,2,3]\n",
    "n.remove(n[0])\n",
    "print(n)"
   ]
  },
  {
   "cell_type": "code",
   "execution_count": 14,
   "metadata": {},
   "outputs": [
    {
     "ename": "NameError",
     "evalue": "name 'sys' is not defined",
     "output_type": "error",
     "traceback": [
      "\u001b[31m---------------------------------------------------------------------------\u001b[39m",
      "\u001b[31mNameError\u001b[39m                                 Traceback (most recent call last)",
      "\u001b[36mCell\u001b[39m\u001b[36m \u001b[39m\u001b[32mIn[14]\u001b[39m\u001b[32m, line 1\u001b[39m\n\u001b[32m----> \u001b[39m\u001b[32m1\u001b[39m N = \u001b[38;5;28mint\u001b[39m(\u001b[43msys\u001b[49m.stdin.readline())\n\u001b[32m      3\u001b[39m front = \u001b[32m0\u001b[39m\n\u001b[32m      4\u001b[39m rear = N-\u001b[32m1\u001b[39m\n",
      "\u001b[31mNameError\u001b[39m: name 'sys' is not defined"
     ]
    }
   ],
   "source": [
    "N = int(sys.stdin.readline())\n",
    "\n",
    "front = 0\n",
    "rear = N-1\n",
    "\n",
    "card = [i for i in range(1, N+1)]\n",
    "\n",
    "while front < len(card) - 1:\n",
    "    front += 1\n",
    "    card.append(card[front])\n",
    "    front += 1\n",
    "\n",
    "print(card[front])\n",
    "\n",
    "\n",
    "\n"
   ]
  },
  {
   "cell_type": "code",
   "execution_count": null,
   "metadata": {},
   "outputs": [],
   "source": [
    "import sys\n",
    "\n",
    "N = int(sys.stdin.readline())\n",
    "\n",
    "class Node:\n",
    "    def __init__(self, value = None):\n",
    "        self.value = value\n",
    "        self.next = None\n",
    "    \n",
    "class queue:\n",
    "    def __init__(self, front, rear):\n",
    "        self.front = front\n",
    "        self.rear = rear\n",
    "   \n",
    "    def is_empty(self):\n",
    "        if self.front == None:\n",
    "            return 1\n",
    "        else:\n",
    "            return 0\n",
    "    \n",
    "    def push(self, value):\n",
    "        p = Node()\n",
    "        if self.is_empty() == True:\n",
    "            p.value = value\n",
    "            self.front = p\n",
    "            self.rear = p\n",
    "        else:\n",
    "            self.rear.next = p\n",
    "            self.rear = p\n",
    "        return\n",
    "    \n",
    "    def pop(self):\n",
    "        if self.is_empty() == True:\n",
    "            return -1\n",
    "        \n",
    "        else:\n",
    "            e = self.front.value\n",
    "            p = self.front\n",
    "            self.front = self.front.next\n",
    "            if self.front == None:\n",
    "                self.rear = None\n",
    "            return e\n",
    "        \n",
    "    def front(self):\n",
    "        return self.front\n",
    "    \n",
    "    \n",
    "\n",
    "\n",
    "\n",
    "\n",
    "    \n",
    "\n",
    "    \n",
    "        \n",
    "\n",
    "\n",
    "for i in range(N):\n",
    "    a, b = sys.stdin.readline().split()\n"
   ]
  },
  {
   "cell_type": "markdown",
   "metadata": {},
   "source": [
    "---\n"
   ]
  },
  {
   "cell_type": "code",
   "execution_count": null,
   "metadata": {},
   "outputs": [],
   "source": [
    "a = int(input())\n",
    "\n",
    "def check(year):\n",
    "    if (year % 4 == 0) and ((year % 100 != 0) or (year % 400 == 0)):\n",
    "        print(1)\n",
    "    else:\n",
    "        print(0)\n",
    "\n",
    "check(a)\n"
   ]
  },
  {
   "cell_type": "code",
   "execution_count": null,
   "metadata": {},
   "outputs": [
    {
     "ename": "ValueError",
     "evalue": "invalid literal for int() with base 10: '1 1 1'",
     "output_type": "error",
     "traceback": [
      "\u001b[31m---------------------------------------------------------------------------\u001b[39m",
      "\u001b[31mValueError\u001b[39m                                Traceback (most recent call last)",
      "\u001b[36mCell\u001b[39m\u001b[36m \u001b[39m\u001b[32mIn[2]\u001b[39m\u001b[32m, line 3\u001b[39m\n\u001b[32m      1\u001b[39m a , b = \u001b[38;5;28mmap\u001b[39m(\u001b[38;5;28mint\u001b[39m, (\u001b[38;5;28minput\u001b[39m().split()))\n\u001b[32m      2\u001b[39m \u001b[38;5;28;01mfor\u001b[39;00m i \u001b[38;5;129;01min\u001b[39;00m \u001b[38;5;28mrange\u001b[39m(b):\n\u001b[32m----> \u001b[39m\u001b[32m3\u001b[39m     lis = [\u001b[38;5;28;43mint\u001b[39;49m\u001b[43m(\u001b[49m\u001b[38;5;28;43minput\u001b[39;49m\u001b[43m(\u001b[49m\u001b[43m)\u001b[49m\u001b[43m)\u001b[49m \u001b[38;5;28;01mfor\u001b[39;00m _ \u001b[38;5;129;01min\u001b[39;00m \u001b[38;5;28mrange\u001b[39m(b)]\n\u001b[32m      5\u001b[39m \u001b[38;5;28mprint\u001b[39m(lis)\n",
      "\u001b[31mValueError\u001b[39m: invalid literal for int() with base 10: '1 1 1'"
     ]
    }
   ],
   "source": [
    "a , b = map(int, (input().split()))\n",
    "for i in range(b):\n",
    "    lis = [map(int, (input())) for _ in range(b)]\n",
    "\n",
    "print(lis)\n"
   ]
  }
 ],
 "metadata": {
  "kernelspec": {
   "display_name": "Python 3",
   "language": "python",
   "name": "python3"
  },
  "language_info": {
   "codemirror_mode": {
    "name": "ipython",
    "version": 3
   },
   "file_extension": ".py",
   "mimetype": "text/x-python",
   "name": "python",
   "nbconvert_exporter": "python",
   "pygments_lexer": "ipython3",
   "version": "3.13.2"
  }
 },
 "nbformat": 4,
 "nbformat_minor": 2
}
