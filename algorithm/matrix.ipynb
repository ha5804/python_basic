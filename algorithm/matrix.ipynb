{
 "cells": [
  {
   "cell_type": "code",
   "execution_count": 5,
   "metadata": {},
   "outputs": [
    {
     "name": "stdout",
     "output_type": "stream",
     "text": [
      "4 4 4\n",
      "6 6 6\n",
      "5 6 100\n"
     ]
    }
   ],
   "source": [
    "N , M = map(int, input().split())\n",
    "A = []\n",
    "B = []\n",
    "for i in range(N):\n",
    "    row = list(map(int, (input().split())))\n",
    "    A.append(row)\n",
    "\n",
    "for i in range(N):\n",
    "    row = list(map(int, (input().split())))\n",
    "    B.append(row)\n",
    "\n",
    "result = []\n",
    "for i in range(N):\n",
    "    row = []\n",
    "    for j in range(M):\n",
    "        row.append(A[i][j] + B[i][j])\n",
    "    result.append(row)\n",
    "\n",
    "for row in result:\n",
    "    print(*row)\n"
   ]
  }
 ],
 "metadata": {
  "kernelspec": {
   "display_name": "Python 3",
   "language": "python",
   "name": "python3"
  },
  "language_info": {
   "codemirror_mode": {
    "name": "ipython",
    "version": 3
   },
   "file_extension": ".py",
   "mimetype": "text/x-python",
   "name": "python",
   "nbconvert_exporter": "python",
   "pygments_lexer": "ipython3",
   "version": "3.13.2"
  }
 },
 "nbformat": 4,
 "nbformat_minor": 2
}
