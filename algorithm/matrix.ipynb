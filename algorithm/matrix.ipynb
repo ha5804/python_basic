{
 "cells": [
  {
   "cell_type": "code",
   "execution_count": 5,
   "metadata": {},
   "outputs": [
    {
     "name": "stdout",
     "output_type": "stream",
     "text": [
      "4 4 4\n",
      "6 6 6\n",
      "5 6 100\n"
     ]
    }
   ],
   "source": [
    "N , M = map(int, input().split())\n",
    "A = []\n",
    "B = []\n",
    "for i in range(N):\n",
    "    row = list(map(int, (input().split())))\n",
    "    A.append(row)\n",
    "\n",
    "for i in range(N):\n",
    "    row = list(map(int, (input().split())))\n",
    "    B.append(row)\n",
    "\n",
    "result = []\n",
    "for i in range(N):\n",
    "    row = []\n",
    "    for j in range(M):\n",
    "        row.append(A[i][j] + B[i][j])\n",
    "    result.append(row)\n",
    "\n",
    "for row in result:\n",
    "    print(*row)\n"
   ]
  },
  {
   "cell_type": "code",
   "execution_count": 10,
   "metadata": {},
   "outputs": [
    {
     "ename": "IndexError",
     "evalue": "list index out of range",
     "output_type": "error",
     "traceback": [
      "\u001b[31m---------------------------------------------------------------------------\u001b[39m",
      "\u001b[31mIndexError\u001b[39m                                Traceback (most recent call last)",
      "\u001b[36mCell\u001b[39m\u001b[36m \u001b[39m\u001b[32mIn[10]\u001b[39m\u001b[32m, line 10\u001b[39m\n\u001b[32m      8\u001b[39m \u001b[38;5;28;01mfor\u001b[39;00m i \u001b[38;5;129;01min\u001b[39;00m \u001b[38;5;28mrange\u001b[39m(\u001b[32m9\u001b[39m):\n\u001b[32m      9\u001b[39m     \u001b[38;5;28;01mfor\u001b[39;00m j \u001b[38;5;129;01min\u001b[39;00m \u001b[38;5;28mrange\u001b[39m(\u001b[32m9\u001b[39m):\n\u001b[32m---> \u001b[39m\u001b[32m10\u001b[39m         \u001b[38;5;28;01mif\u001b[39;00m \u001b[38;5;28mmax\u001b[39m <= \u001b[43mmatrix\u001b[49m\u001b[43m[\u001b[49m\u001b[43mi\u001b[49m\u001b[43m]\u001b[49m\u001b[43m[\u001b[49m\u001b[43mj\u001b[49m\u001b[43m]\u001b[49m:\n\u001b[32m     11\u001b[39m             \u001b[38;5;28mmax\u001b[39m = matrix[i][j]\n\u001b[32m     12\u001b[39m             max_index_row = i+\u001b[32m1\u001b[39m\n",
      "\u001b[31mIndexError\u001b[39m: list index out of range"
     ]
    }
   ],
   "source": [
    "matrix = []\n",
    "for i in range(9):\n",
    "    matrix.append(list(map(int, input().split())))\n",
    "\n",
    "max = 0\n",
    "max_index_row = 0\n",
    "max_index_col = 0\n",
    "for i in range(9):\n",
    "    for j in range(9):\n",
    "        if max <= matrix[i][j]:\n",
    "            max = matrix[i][j]\n",
    "            max_index_row = i+1\n",
    "            max_index_col = j+1\n",
    "\n",
    "print(max)\n",
    "print(max_index_row, max_index_col)\n",
    "print(matrix.len)\n"
   ]
  },
  {
   "cell_type": "code",
   "execution_count": null,
   "metadata": {},
   "outputs": [
    {
     "name": "stdout",
     "output_type": "stream",
     "text": [
      "[4, 5, 6]\n"
     ]
    }
   ],
   "source": [
    "matrix = [[1,2,3],[4,5,6]]\n",
    "print()"
   ]
  },
  {
   "cell_type": "code",
   "execution_count": null,
   "metadata": {},
   "outputs": [
    {
     "name": "stdout",
     "output_type": "stream",
     "text": [
      "Aa0FfBb1GgCc2HhDd3IjEe4Ji\n"
     ]
    }
   ],
   "source": [
    "matrix = [list(input()) for i in range(5)]\n",
    "\n",
    "max_col = max(len(row) for row in matrix)\n",
    "\n",
    "result = []\n",
    "\n",
    "for i in range(max_col):\n",
    "    for j in range(len(matrix)):\n",
    "        if i < len(matrix[j]):\n",
    "            result.append(matrix[j][i])\n",
    "\n",
    "print(''.join(result))\n",
    "\n"
   ]
  }
 ],
 "metadata": {
  "kernelspec": {
   "display_name": "Python 3",
   "language": "python",
   "name": "python3"
  },
  "language_info": {
   "codemirror_mode": {
    "name": "ipython",
    "version": 3
   },
   "file_extension": ".py",
   "mimetype": "text/x-python",
   "name": "python",
   "nbconvert_exporter": "python",
   "pygments_lexer": "ipython3",
   "version": "3.13.2"
  }
 },
 "nbformat": 4,
 "nbformat_minor": 2
}
