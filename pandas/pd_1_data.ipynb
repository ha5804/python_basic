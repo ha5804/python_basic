{
 "cells": [
  {
   "cell_type": "markdown",
   "metadata": {},
   "source": [
    "# import\n",
    "\n",
    "pandas를 사용하기 위해서 pandas 라이브러리를 임포트 해오자."
   ]
  },
  {
   "cell_type": "code",
   "execution_count": 1,
   "metadata": {},
   "outputs": [],
   "source": [
    "import pandas as pd"
   ]
  },
  {
   "cell_type": "markdown",
   "metadata": {},
   "source": [
    "# Creating data\n",
    "\n",
    "pandas에서는 핵심적인 두개의 객체가있다.\n",
    "\n",
    "    (DataFrame, Series)\n",
    "---\n",
    "### (1) DataFrame:\n",
    "\n",
    "딕셔너리 형태처럼 key가 첫번째 행에 들어가서, 그 다음행의 값에 대한 정보를 저장한다. \n",
    "\n",
    "이때 그 다음행들의 값은 리스트형식으로 저장된다.\n",
    "\n",
    "값은 정수 뿐만 아니라 문자열 또한 가능하다.\n",
    "\n",
    "이때 각 행의 번호에 \n",
    "\n",
    "- index = [] \n",
    "\n",
    "이용해 행 번호를 바꿀수 있다.\n",
    "\n",
    "    * 이때 index는 딕셔너리 밖에 리스트 형태로 저장되고, \n",
    "    \n",
    "    각 value들 또한 list로 저장해야 하는것을 기억하자\n",
    "---\n",
    "\n"
   ]
  },
  {
   "cell_type": "code",
   "execution_count": 12,
   "metadata": {},
   "outputs": [
    {
     "data": {
      "text/html": [
       "<div>\n",
       "<style scoped>\n",
       "    .dataframe tbody tr th:only-of-type {\n",
       "        vertical-align: middle;\n",
       "    }\n",
       "\n",
       "    .dataframe tbody tr th {\n",
       "        vertical-align: top;\n",
       "    }\n",
       "\n",
       "    .dataframe thead th {\n",
       "        text-align: right;\n",
       "    }\n",
       "</style>\n",
       "<table border=\"1\" class=\"dataframe\">\n",
       "  <thead>\n",
       "    <tr style=\"text-align: right;\">\n",
       "      <th></th>\n",
       "      <th>yes</th>\n",
       "      <th>no</th>\n",
       "    </tr>\n",
       "  </thead>\n",
       "  <tbody>\n",
       "    <tr>\n",
       "      <th>row1</th>\n",
       "      <td>50</td>\n",
       "      <td>bob</td>\n",
       "    </tr>\n",
       "    <tr>\n",
       "      <th>row2</th>\n",
       "      <td>21</td>\n",
       "      <td>like</td>\n",
       "    </tr>\n",
       "  </tbody>\n",
       "</table>\n",
       "</div>"
      ],
      "text/plain": [
       "      yes    no\n",
       "row1   50   bob\n",
       "row2   21  like"
      ]
     },
     "execution_count": 12,
     "metadata": {},
     "output_type": "execute_result"
    }
   ],
   "source": [
    "pd.DataFrame({'yes' : [ 50, 21], 'no': [\"bob\", \"like\"]}, \n",
    "                 index = ['row1', 'row2'])\n"
   ]
  },
  {
   "cell_type": "markdown",
   "metadata": {},
   "source": [
    "### (2)Series\n",
    "\n",
    "Series는 DataFrame과 깊은 관련이 있다. \n",
    "\n",
    "DataFrame의 한 열을 자른것이 Series 라고 생각하면 된다.\n",
    "\n",
    "이때 DataFrame에서는 딕셔너리 형태의 key가 각 열에 대한 이름을 나타내 주었는데, \n",
    "\n",
    "Series는 그 열에 대한 이름을 name 을 이용하여 직접 설정해주어야 한다.\n"
   ]
  },
  {
   "cell_type": "code",
   "execution_count": null,
   "metadata": {},
   "outputs": [
    {
     "data": {
      "text/plain": [
       "age1    30\n",
       "age2    45\n",
       "age3    60\n",
       "Name: people ages, dtype: int64"
      ]
     },
     "execution_count": 6,
     "metadata": {},
     "output_type": "execute_result"
    }
   ],
   "source": [
    "pd.Series([30, 45, 60], index = [\"age1\", \"age2\", \"age3\"], \n",
    "          name = \"people ages\")"
   ]
  },
  {
   "cell_type": "markdown",
   "metadata": {},
   "source": [
    "# Read data\n",
    "\n",
    "이미 존재하는 csv 파일을 읽기위해 우리는 \n",
    "\n",
    "    - pd.read_csv 이용한다."
   ]
  },
  {
   "cell_type": "code",
   "execution_count": 9,
   "metadata": {},
   "outputs": [],
   "source": [
    "ex_data = pd.read_csv(\"./data/dongjak_df.csv\")"
   ]
  },
  {
   "cell_type": "markdown",
   "metadata": {},
   "source": [
    "shape 함수를 통해 읽어온 csv 파일의 크기를 확인 할 수 있다."
   ]
  },
  {
   "cell_type": "code",
   "execution_count": 10,
   "metadata": {},
   "outputs": [
    {
     "data": {
      "text/plain": [
       "(14, 11)"
      ]
     },
     "execution_count": 10,
     "metadata": {},
     "output_type": "execute_result"
    }
   ],
   "source": [
    "ex_data.shape"
   ]
  },
  {
   "cell_type": "markdown",
   "metadata": {},
   "source": [
    "head() 함수를 통해 우리는 첫번째 행부터 5개의 행을 추출해 확인 할 수 있다."
   ]
  },
  {
   "cell_type": "code",
   "execution_count": 13,
   "metadata": {},
   "outputs": [
    {
     "data": {
      "text/html": [
       "<div>\n",
       "<style scoped>\n",
       "    .dataframe tbody tr th:only-of-type {\n",
       "        vertical-align: middle;\n",
       "    }\n",
       "\n",
       "    .dataframe tbody tr th {\n",
       "        vertical-align: top;\n",
       "    }\n",
       "\n",
       "    .dataframe thead th {\n",
       "        text-align: right;\n",
       "    }\n",
       "</style>\n",
       "<table border=\"1\" class=\"dataframe\">\n",
       "  <thead>\n",
       "    <tr style=\"text-align: right;\">\n",
       "      <th></th>\n",
       "      <th>senior_population</th>\n",
       "      <th>children_population</th>\n",
       "      <th>disabled_population</th>\n",
       "      <th>mobility_weak_population</th>\n",
       "      <th>total_population</th>\n",
       "      <th>senior_ratio</th>\n",
       "      <th>children_ratio</th>\n",
       "      <th>disabled_ratio</th>\n",
       "      <th>mobility_weak_ratio</th>\n",
       "      <th>district_name</th>\n",
       "      <th>district_code</th>\n",
       "    </tr>\n",
       "  </thead>\n",
       "  <tbody>\n",
       "    <tr>\n",
       "      <th>0</th>\n",
       "      <td>5957</td>\n",
       "      <td>1661</td>\n",
       "      <td>1251</td>\n",
       "      <td>8869</td>\n",
       "      <td>32114</td>\n",
       "      <td>0.185495</td>\n",
       "      <td>0.051722</td>\n",
       "      <td>0.038955</td>\n",
       "      <td>0.276172</td>\n",
       "      <td>Noryangjin 1-dong</td>\n",
       "      <td>11200510</td>\n",
       "    </tr>\n",
       "    <tr>\n",
       "      <th>1</th>\n",
       "      <td>2255</td>\n",
       "      <td>253</td>\n",
       "      <td>545</td>\n",
       "      <td>3053</td>\n",
       "      <td>11234</td>\n",
       "      <td>0.200730</td>\n",
       "      <td>0.022521</td>\n",
       "      <td>0.048513</td>\n",
       "      <td>0.271764</td>\n",
       "      <td>Noryangjin 2-dong</td>\n",
       "      <td>11200520</td>\n",
       "    </tr>\n",
       "    <tr>\n",
       "      <th>2</th>\n",
       "      <td>5818</td>\n",
       "      <td>1817</td>\n",
       "      <td>1542</td>\n",
       "      <td>9177</td>\n",
       "      <td>37056</td>\n",
       "      <td>0.157006</td>\n",
       "      <td>0.049034</td>\n",
       "      <td>0.041613</td>\n",
       "      <td>0.247652</td>\n",
       "      <td>Daebang-dong</td>\n",
       "      <td>11200660</td>\n",
       "    </tr>\n",
       "    <tr>\n",
       "      <th>3</th>\n",
       "      <td>3896</td>\n",
       "      <td>649</td>\n",
       "      <td>754</td>\n",
       "      <td>5299</td>\n",
       "      <td>23009</td>\n",
       "      <td>0.169325</td>\n",
       "      <td>0.028206</td>\n",
       "      <td>0.032770</td>\n",
       "      <td>0.230301</td>\n",
       "      <td>Sadang 1-dong</td>\n",
       "      <td>11200620</td>\n",
       "    </tr>\n",
       "    <tr>\n",
       "      <th>4</th>\n",
       "      <td>5827</td>\n",
       "      <td>1850</td>\n",
       "      <td>948</td>\n",
       "      <td>8625</td>\n",
       "      <td>28786</td>\n",
       "      <td>0.202425</td>\n",
       "      <td>0.064267</td>\n",
       "      <td>0.032933</td>\n",
       "      <td>0.299625</td>\n",
       "      <td>Sadang 2-dong</td>\n",
       "      <td>11200630</td>\n",
       "    </tr>\n",
       "  </tbody>\n",
       "</table>\n",
       "</div>"
      ],
      "text/plain": [
       "   senior_population  children_population  disabled_population  \\\n",
       "0               5957                 1661                 1251   \n",
       "1               2255                  253                  545   \n",
       "2               5818                 1817                 1542   \n",
       "3               3896                  649                  754   \n",
       "4               5827                 1850                  948   \n",
       "\n",
       "   mobility_weak_population  total_population  senior_ratio  children_ratio  \\\n",
       "0                      8869             32114      0.185495        0.051722   \n",
       "1                      3053             11234      0.200730        0.022521   \n",
       "2                      9177             37056      0.157006        0.049034   \n",
       "3                      5299             23009      0.169325        0.028206   \n",
       "4                      8625             28786      0.202425        0.064267   \n",
       "\n",
       "   disabled_ratio  mobility_weak_ratio      district_name  district_code  \n",
       "0        0.038955             0.276172  Noryangjin 1-dong       11200510  \n",
       "1        0.048513             0.271764  Noryangjin 2-dong       11200520  \n",
       "2        0.041613             0.247652       Daebang-dong       11200660  \n",
       "3        0.032770             0.230301      Sadang 1-dong       11200620  \n",
       "4        0.032933             0.299625      Sadang 2-dong       11200630  "
      ]
     },
     "execution_count": 13,
     "metadata": {},
     "output_type": "execute_result"
    }
   ],
   "source": [
    "ex_data.head()"
   ]
  },
  {
   "cell_type": "markdown",
   "metadata": {},
   "source": [
    "지금 데이터는 csv파일 자체가 key,value 쌍으로만 저장되어있기때문에, \n",
    "\n",
    "head()를 통해 잘 읽히는 것을 볼 수 있다. \n",
    "\n",
    "그러나 csv 파일에 실제로 행번호가 저장되어있는 경우에는 \n",
    "\n",
    "    - index_col\n",
    "\n",
    "을 통해 첫번째 열을 제외 시킨후 파일을 읽을 수 있다."
   ]
  },
  {
   "cell_type": "code",
   "execution_count": 14,
   "metadata": {},
   "outputs": [
    {
     "data": {
      "text/html": [
       "<div>\n",
       "<style scoped>\n",
       "    .dataframe tbody tr th:only-of-type {\n",
       "        vertical-align: middle;\n",
       "    }\n",
       "\n",
       "    .dataframe tbody tr th {\n",
       "        vertical-align: top;\n",
       "    }\n",
       "\n",
       "    .dataframe thead th {\n",
       "        text-align: right;\n",
       "    }\n",
       "</style>\n",
       "<table border=\"1\" class=\"dataframe\">\n",
       "  <thead>\n",
       "    <tr style=\"text-align: right;\">\n",
       "      <th></th>\n",
       "      <th>children_population</th>\n",
       "      <th>disabled_population</th>\n",
       "      <th>mobility_weak_population</th>\n",
       "      <th>total_population</th>\n",
       "      <th>senior_ratio</th>\n",
       "      <th>children_ratio</th>\n",
       "      <th>disabled_ratio</th>\n",
       "      <th>mobility_weak_ratio</th>\n",
       "      <th>district_name</th>\n",
       "      <th>district_code</th>\n",
       "    </tr>\n",
       "    <tr>\n",
       "      <th>senior_population</th>\n",
       "      <th></th>\n",
       "      <th></th>\n",
       "      <th></th>\n",
       "      <th></th>\n",
       "      <th></th>\n",
       "      <th></th>\n",
       "      <th></th>\n",
       "      <th></th>\n",
       "      <th></th>\n",
       "      <th></th>\n",
       "    </tr>\n",
       "  </thead>\n",
       "  <tbody>\n",
       "    <tr>\n",
       "      <th>5957</th>\n",
       "      <td>1661</td>\n",
       "      <td>1251</td>\n",
       "      <td>8869</td>\n",
       "      <td>32114</td>\n",
       "      <td>0.185495</td>\n",
       "      <td>0.051722</td>\n",
       "      <td>0.038955</td>\n",
       "      <td>0.276172</td>\n",
       "      <td>Noryangjin 1-dong</td>\n",
       "      <td>11200510</td>\n",
       "    </tr>\n",
       "    <tr>\n",
       "      <th>2255</th>\n",
       "      <td>253</td>\n",
       "      <td>545</td>\n",
       "      <td>3053</td>\n",
       "      <td>11234</td>\n",
       "      <td>0.200730</td>\n",
       "      <td>0.022521</td>\n",
       "      <td>0.048513</td>\n",
       "      <td>0.271764</td>\n",
       "      <td>Noryangjin 2-dong</td>\n",
       "      <td>11200520</td>\n",
       "    </tr>\n",
       "    <tr>\n",
       "      <th>5818</th>\n",
       "      <td>1817</td>\n",
       "      <td>1542</td>\n",
       "      <td>9177</td>\n",
       "      <td>37056</td>\n",
       "      <td>0.157006</td>\n",
       "      <td>0.049034</td>\n",
       "      <td>0.041613</td>\n",
       "      <td>0.247652</td>\n",
       "      <td>Daebang-dong</td>\n",
       "      <td>11200660</td>\n",
       "    </tr>\n",
       "    <tr>\n",
       "      <th>3896</th>\n",
       "      <td>649</td>\n",
       "      <td>754</td>\n",
       "      <td>5299</td>\n",
       "      <td>23009</td>\n",
       "      <td>0.169325</td>\n",
       "      <td>0.028206</td>\n",
       "      <td>0.032770</td>\n",
       "      <td>0.230301</td>\n",
       "      <td>Sadang 1-dong</td>\n",
       "      <td>11200620</td>\n",
       "    </tr>\n",
       "    <tr>\n",
       "      <th>5827</th>\n",
       "      <td>1850</td>\n",
       "      <td>948</td>\n",
       "      <td>8625</td>\n",
       "      <td>28786</td>\n",
       "      <td>0.202425</td>\n",
       "      <td>0.064267</td>\n",
       "      <td>0.032933</td>\n",
       "      <td>0.299625</td>\n",
       "      <td>Sadang 2-dong</td>\n",
       "      <td>11200630</td>\n",
       "    </tr>\n",
       "  </tbody>\n",
       "</table>\n",
       "</div>"
      ],
      "text/plain": [
       "                   children_population  disabled_population  \\\n",
       "senior_population                                             \n",
       "5957                              1661                 1251   \n",
       "2255                               253                  545   \n",
       "5818                              1817                 1542   \n",
       "3896                               649                  754   \n",
       "5827                              1850                  948   \n",
       "\n",
       "                   mobility_weak_population  total_population  senior_ratio  \\\n",
       "senior_population                                                             \n",
       "5957                                   8869             32114      0.185495   \n",
       "2255                                   3053             11234      0.200730   \n",
       "5818                                   9177             37056      0.157006   \n",
       "3896                                   5299             23009      0.169325   \n",
       "5827                                   8625             28786      0.202425   \n",
       "\n",
       "                   children_ratio  disabled_ratio  mobility_weak_ratio  \\\n",
       "senior_population                                                        \n",
       "5957                     0.051722        0.038955             0.276172   \n",
       "2255                     0.022521        0.048513             0.271764   \n",
       "5818                     0.049034        0.041613             0.247652   \n",
       "3896                     0.028206        0.032770             0.230301   \n",
       "5827                     0.064267        0.032933             0.299625   \n",
       "\n",
       "                       district_name  district_code  \n",
       "senior_population                                    \n",
       "5957               Noryangjin 1-dong       11200510  \n",
       "2255               Noryangjin 2-dong       11200520  \n",
       "5818                    Daebang-dong       11200660  \n",
       "3896                   Sadang 1-dong       11200620  \n",
       "5827                   Sadang 2-dong       11200630  "
      ]
     },
     "execution_count": 14,
     "metadata": {},
     "output_type": "execute_result"
    }
   ],
   "source": [
    "ex_data = pd.read_csv(\"./data/dongjak_df.csv\", index_col = 0)\n",
    "ex_data.head()\n"
   ]
  },
  {
   "cell_type": "markdown",
   "metadata": {},
   "source": [
    "# Save to Csv\n",
    "\n",
    "만든 DataFrame을 csv로 저장하기 위해서는\n",
    "\n",
    "    - to_csv\n",
    "\n",
    "를 이용하자."
   ]
  },
  {
   "cell_type": "code",
   "execution_count": 16,
   "metadata": {},
   "outputs": [],
   "source": [
    "animals = pd.DataFrame({\"cow\" : [12, 20], \"goats\" : [22, 19]})\n",
    "animals.to_csv('./data/cows_and_goats.csv')"
   ]
  }
 ],
 "metadata": {
  "kernelspec": {
   "display_name": "Python 3",
   "language": "python",
   "name": "python3"
  },
  "language_info": {
   "codemirror_mode": {
    "name": "ipython",
    "version": 3
   },
   "file_extension": ".py",
   "mimetype": "text/x-python",
   "name": "python",
   "nbconvert_exporter": "python",
   "pygments_lexer": "ipython3",
   "version": "3.13.2"
  }
 },
 "nbformat": 4,
 "nbformat_minor": 2
}
