{
 "cells": [
  {
   "cell_type": "markdown",
   "metadata": {},
   "source": [
    "# import\n",
    "\n",
    "pandas를 사용하기 위해서 pandas 라이브러리를 임포트 해오자."
   ]
  },
  {
   "cell_type": "code",
   "execution_count": 1,
   "metadata": {},
   "outputs": [],
   "source": [
    "import pandas as pd"
   ]
  },
  {
   "cell_type": "markdown",
   "metadata": {},
   "source": [
    "# Creating data\n",
    "\n",
    "pandas에서는 핵심적인 두개의 객체가있다.\n",
    "\n",
    "    (DataFrame, Series)\n",
    "---\n",
    "### (1) DataFrame:\n",
    "\n",
    "딕셔너리 형태처럼 key가 첫번째 행에 들어가서, 그 다음행의 값에 대한 정보를 저장한다. \n",
    "\n",
    "이때 그 다음행들의 값은 리스트형식으로 저장된다.\n",
    "\n",
    "값은 정수 뿐만 아니라 문자열 또한 가능하다.\n",
    "\n",
    "이때 각 행의 번호에 \n",
    "\n",
    "- index = [] \n",
    "\n",
    "이용해 행 번호를 바꿀수 있다.\n",
    "\n",
    "---\n",
    "\n"
   ]
  },
  {
   "cell_type": "code",
   "execution_count": 5,
   "metadata": {},
   "outputs": [
    {
     "data": {
      "text/html": [
       "<div>\n",
       "<style scoped>\n",
       "    .dataframe tbody tr th:only-of-type {\n",
       "        vertical-align: middle;\n",
       "    }\n",
       "\n",
       "    .dataframe tbody tr th {\n",
       "        vertical-align: top;\n",
       "    }\n",
       "\n",
       "    .dataframe thead th {\n",
       "        text-align: right;\n",
       "    }\n",
       "</style>\n",
       "<table border=\"1\" class=\"dataframe\">\n",
       "  <thead>\n",
       "    <tr style=\"text-align: right;\">\n",
       "      <th></th>\n",
       "      <th>yes</th>\n",
       "      <th>no</th>\n",
       "    </tr>\n",
       "  </thead>\n",
       "  <tbody>\n",
       "    <tr>\n",
       "      <th>row1</th>\n",
       "      <td>50</td>\n",
       "      <td>bob</td>\n",
       "    </tr>\n",
       "    <tr>\n",
       "      <th>row2</th>\n",
       "      <td>21</td>\n",
       "      <td>like</td>\n",
       "    </tr>\n",
       "  </tbody>\n",
       "</table>\n",
       "</div>"
      ],
      "text/plain": [
       "      yes    no\n",
       "row1   50   bob\n",
       "row2   21  like"
      ]
     },
     "execution_count": 5,
     "metadata": {},
     "output_type": "execute_result"
    }
   ],
   "source": [
    "pd.DataFrame({'yes' : [ 50, 21], 'no': [\"bob\", \"like\"]}, index = ['row1', 'row2'])"
   ]
  },
  {
   "cell_type": "markdown",
   "metadata": {},
   "source": [
    "### (2)Series\n",
    "\n",
    "Series는 DataFrame과 깊은 관련이 있다. \n",
    "\n",
    "DataFrame의 한 열을 자른것이 Series 라고 생각하면 된다.\n",
    "\n",
    "이때 DataFrame에서는 딕셔너리 형태의 key가 각 열에 대한 이름을 나타내 주었는데, \n",
    "\n",
    "Series는 그 열에 대한 이름을 name 을 이용하여 직접 설정해주어야 한다.\n"
   ]
  },
  {
   "cell_type": "code",
   "execution_count": null,
   "metadata": {},
   "outputs": [
    {
     "data": {
      "text/plain": [
       "age1    30\n",
       "age2    45\n",
       "age3    60\n",
       "Name: people ages, dtype: int64"
      ]
     },
     "execution_count": 6,
     "metadata": {},
     "output_type": "execute_result"
    }
   ],
   "source": [
    "pd.Series([30, 45, 60], index = [\"age1\", \"age2\", \"age3\"], \n",
    "          name = \"people ages\")"
   ]
  },
  {
   "cell_type": "markdown",
   "metadata": {},
   "source": []
  },
  {
   "cell_type": "code",
   "execution_count": null,
   "metadata": {},
   "outputs": [],
   "source": []
  }
 ],
 "metadata": {
  "kernelspec": {
   "display_name": "Python 3",
   "language": "python",
   "name": "python3"
  },
  "language_info": {
   "codemirror_mode": {
    "name": "ipython",
    "version": 3
   },
   "file_extension": ".py",
   "mimetype": "text/x-python",
   "name": "python",
   "nbconvert_exporter": "python",
   "pygments_lexer": "ipython3",
   "version": "3.13.2"
  }
 },
 "nbformat": 4,
 "nbformat_minor": 2
}
