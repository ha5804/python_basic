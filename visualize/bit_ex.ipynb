{
 "cells": [
  {
   "cell_type": "markdown",
   "metadata": {},
   "source": [
    "# 실습1 - 비트코인 데이터 다루기.\n",
    "\n",
    "---\n",
    "## (1)ccxt \n",
    "\n",
    "- ccxt는 여러 거래소의 정보를 불러오는 라이브러리다.\n",
    "\n",
    "## (2)mplfinance\n",
    "\n",
    "- mplfinance는 matplotlib에서 좀 더 시장 그래프에 맞게 그려주는 라이브러리다.\n",
    "\n",
    "---\n",
    "\n",
    "    위 두 라이브러리를 이용하여 실제 시장의 과거 비트코인 정보를 plot 해보자."
   ]
  },
  {
   "cell_type": "code",
   "execution_count": 1,
   "metadata": {},
   "outputs": [],
   "source": [
    "import ccxt\n",
    "import pandas as pd\n",
    "import mplfinance as mpf"
   ]
  },
  {
   "cell_type": "markdown",
   "metadata": {},
   "source": [
    "    bybit의 정보를 가져오는 코드이다."
   ]
  },
  {
   "cell_type": "code",
   "execution_count": 2,
   "metadata": {},
   "outputs": [],
   "source": [
    "binance = ccxt.bybit()"
   ]
  },
  {
   "cell_type": "markdown",
   "metadata": {},
   "source": [
    "### parameter\n",
    "\n",
    "(1)O: Open의 줄임말로 시가를 뜻한다.\n",
    "\n",
    "(2)H: High의 줄임말로 고가를 뜻한다.\n",
    "\n",
    "(3)L: Low의 줄임말로 저가를 뜻한다.\n",
    "\n",
    "(4)C: Close의 줄임말로 종가를 뜻한다.\n",
    "\n",
    "(5)V: Volume의 줄임말로 거래량을 뜻한다.\n",
    "\n",
    "(6)timestamp: 데이터를 불러올 시간 단위를 뜻한다.\n",
    "\n",
    "(7)limit: 가져올 데이터의 갯수를 뜻한다.\n",
    "\n",
    "---\n",
    "\n",
    "\n",
    "fetch_ohlcv('코인종류', 시간단위, 갯수)는 각 파라미터들을 불러오는 함수이다."
   ]
  },
  {
   "cell_type": "code",
   "execution_count": 3,
   "metadata": {},
   "outputs": [
    {
     "data": {
      "text/plain": [
       "[1752973200000, 117941.1, 118132.5, 117888.2, 117937.6, 155.174729]"
      ]
     },
     "execution_count": 3,
     "metadata": {},
     "output_type": "execute_result"
    }
   ],
   "source": [
    "ohlcv = binance.fetch_ohlcv('BTC/USDT', timeframe = '1h', limit = 100)\n",
    "ohlcv[0]"
   ]
  },
  {
   "cell_type": "markdown",
   "metadata": {},
   "source": [
    "위의 결과와 같이 ohlcv에 저장되는 type은 list형태이고, 해당 반환값의 첫번째 열은 Unix 기준 시간\n",
    "\n",
    "1970-01-01 00:00:00 으로 부터 ms(밀리초)로 연산된 값이다.\n",
    "\n",
    "우리는 보기 편하게 ms를 실제 날짜처럼 반환 할 수 있다."
   ]
  },
  {
   "cell_type": "code",
   "execution_count": 4,
   "metadata": {},
   "outputs": [
    {
     "name": "stderr",
     "output_type": "stream",
     "text": [
      "/var/folders/vf/d0gygbv5527dd2h9xypg_1zm0000gn/T/ipykernel_14366/2524010982.py:5: DeprecationWarning: datetime.datetime.utcfromtimestamp() is deprecated and scheduled for removal in a future version. Use timezone-aware objects to represent datetimes in UTC: datetime.datetime.fromtimestamp(timestamp, datetime.UTC).\n",
      "  dt = datetime.utcfromtimestamp(timestamp_s)\n"
     ]
    },
    {
     "data": {
      "text/plain": [
       "[datetime.datetime(2025, 7, 20, 1, 0),\n",
       " 117941.1,\n",
       " 118132.5,\n",
       " 117888.2,\n",
       " 117937.6,\n",
       " 155.174729]"
      ]
     },
     "execution_count": 4,
     "metadata": {},
     "output_type": "execute_result"
    }
   ],
   "source": [
    "from datetime import datetime\n",
    "for row in ohlcv:\n",
    "    timestamp_ms = row[0]\n",
    "    timestamp_s = timestamp_ms / 1000\n",
    "    dt = datetime.utcfromtimestamp(timestamp_s)\n",
    "    row[0] = dt\n",
    "\n",
    "ohlcv[0]\n"
   ]
  },
  {
   "cell_type": "markdown",
   "metadata": {},
   "source": [
    "조금더 깔끔하게 바꾸기 위해 pandas의 모듈을 이용하면 더 쉽다.\n",
    "\n",
    "    - pandas의 to_datetime은 datetime의 모듈과 다른 모듈임을 인지하자"
   ]
  },
  {
   "cell_type": "code",
   "execution_count": 14,
   "metadata": {},
   "outputs": [
    {
     "data": {
      "text/html": [
       "<div>\n",
       "<style scoped>\n",
       "    .dataframe tbody tr th:only-of-type {\n",
       "        vertical-align: middle;\n",
       "    }\n",
       "\n",
       "    .dataframe tbody tr th {\n",
       "        vertical-align: top;\n",
       "    }\n",
       "\n",
       "    .dataframe thead th {\n",
       "        text-align: right;\n",
       "    }\n",
       "</style>\n",
       "<table border=\"1\" class=\"dataframe\">\n",
       "  <thead>\n",
       "    <tr style=\"text-align: right;\">\n",
       "      <th></th>\n",
       "      <th>date</th>\n",
       "      <th>open</th>\n",
       "      <th>high</th>\n",
       "      <th>low</th>\n",
       "      <th>close</th>\n",
       "      <th>volume</th>\n",
       "    </tr>\n",
       "  </thead>\n",
       "  <tbody>\n",
       "    <tr>\n",
       "      <th>0</th>\n",
       "      <td>2025-07-20 01:00:00</td>\n",
       "      <td>117941.1</td>\n",
       "      <td>118132.5</td>\n",
       "      <td>117888.2</td>\n",
       "      <td>117937.6</td>\n",
       "      <td>155.174729</td>\n",
       "    </tr>\n",
       "    <tr>\n",
       "      <th>1</th>\n",
       "      <td>2025-07-20 02:00:00</td>\n",
       "      <td>117937.6</td>\n",
       "      <td>118022.2</td>\n",
       "      <td>117770.6</td>\n",
       "      <td>117988.2</td>\n",
       "      <td>134.616002</td>\n",
       "    </tr>\n",
       "    <tr>\n",
       "      <th>2</th>\n",
       "      <td>2025-07-20 03:00:00</td>\n",
       "      <td>117988.2</td>\n",
       "      <td>118175.7</td>\n",
       "      <td>117737.3</td>\n",
       "      <td>117965.2</td>\n",
       "      <td>247.589393</td>\n",
       "    </tr>\n",
       "    <tr>\n",
       "      <th>3</th>\n",
       "      <td>2025-07-20 04:00:00</td>\n",
       "      <td>117965.2</td>\n",
       "      <td>118138.0</td>\n",
       "      <td>117891.5</td>\n",
       "      <td>117960.9</td>\n",
       "      <td>111.669120</td>\n",
       "    </tr>\n",
       "    <tr>\n",
       "      <th>4</th>\n",
       "      <td>2025-07-20 05:00:00</td>\n",
       "      <td>117960.9</td>\n",
       "      <td>117987.4</td>\n",
       "      <td>117808.6</td>\n",
       "      <td>117857.4</td>\n",
       "      <td>83.502948</td>\n",
       "    </tr>\n",
       "    <tr>\n",
       "      <th>...</th>\n",
       "      <td>...</td>\n",
       "      <td>...</td>\n",
       "      <td>...</td>\n",
       "      <td>...</td>\n",
       "      <td>...</td>\n",
       "      <td>...</td>\n",
       "    </tr>\n",
       "    <tr>\n",
       "      <th>95</th>\n",
       "      <td>2025-07-24 00:00:00</td>\n",
       "      <td>118748.8</td>\n",
       "      <td>119120.5</td>\n",
       "      <td>118564.3</td>\n",
       "      <td>119047.7</td>\n",
       "      <td>351.878753</td>\n",
       "    </tr>\n",
       "    <tr>\n",
       "      <th>96</th>\n",
       "      <td>2025-07-24 01:00:00</td>\n",
       "      <td>119047.7</td>\n",
       "      <td>119099.9</td>\n",
       "      <td>118773.9</td>\n",
       "      <td>119079.4</td>\n",
       "      <td>177.439467</td>\n",
       "    </tr>\n",
       "    <tr>\n",
       "      <th>97</th>\n",
       "      <td>2025-07-24 02:00:00</td>\n",
       "      <td>119079.4</td>\n",
       "      <td>119079.4</td>\n",
       "      <td>118801.9</td>\n",
       "      <td>118954.7</td>\n",
       "      <td>208.666550</td>\n",
       "    </tr>\n",
       "    <tr>\n",
       "      <th>98</th>\n",
       "      <td>2025-07-24 03:00:00</td>\n",
       "      <td>118954.7</td>\n",
       "      <td>119263.9</td>\n",
       "      <td>118468.4</td>\n",
       "      <td>118494.8</td>\n",
       "      <td>392.553504</td>\n",
       "    </tr>\n",
       "    <tr>\n",
       "      <th>99</th>\n",
       "      <td>2025-07-24 04:00:00</td>\n",
       "      <td>118494.8</td>\n",
       "      <td>118578.8</td>\n",
       "      <td>118190.5</td>\n",
       "      <td>118383.4</td>\n",
       "      <td>154.218007</td>\n",
       "    </tr>\n",
       "  </tbody>\n",
       "</table>\n",
       "<p>100 rows × 6 columns</p>\n",
       "</div>"
      ],
      "text/plain": [
       "                  date      open      high       low     close      volume\n",
       "0  2025-07-20 01:00:00  117941.1  118132.5  117888.2  117937.6  155.174729\n",
       "1  2025-07-20 02:00:00  117937.6  118022.2  117770.6  117988.2  134.616002\n",
       "2  2025-07-20 03:00:00  117988.2  118175.7  117737.3  117965.2  247.589393\n",
       "3  2025-07-20 04:00:00  117965.2  118138.0  117891.5  117960.9  111.669120\n",
       "4  2025-07-20 05:00:00  117960.9  117987.4  117808.6  117857.4   83.502948\n",
       "..                 ...       ...       ...       ...       ...         ...\n",
       "95 2025-07-24 00:00:00  118748.8  119120.5  118564.3  119047.7  351.878753\n",
       "96 2025-07-24 01:00:00  119047.7  119099.9  118773.9  119079.4  177.439467\n",
       "97 2025-07-24 02:00:00  119079.4  119079.4  118801.9  118954.7  208.666550\n",
       "98 2025-07-24 03:00:00  118954.7  119263.9  118468.4  118494.8  392.553504\n",
       "99 2025-07-24 04:00:00  118494.8  118578.8  118190.5  118383.4  154.218007\n",
       "\n",
       "[100 rows x 6 columns]"
      ]
     },
     "execution_count": 14,
     "metadata": {},
     "output_type": "execute_result"
    }
   ],
   "source": [
    "df = pd.DataFrame(ohlcv, columns = ['date', 'open', 'high' , 'low', 'close', 'volume'])\n",
    "df['date'] = pd.to_datetime(df['date'], unit = 'ms')\n",
    "df"
   ]
  },
  {
   "cell_type": "markdown",
   "metadata": {},
   "source": [
    "앞으로 데이터를 다룰때 date 기준으로 다루므로 index를 date로 설정하자."
   ]
  },
  {
   "cell_type": "code",
   "execution_count": 15,
   "metadata": {},
   "outputs": [
    {
     "data": {
      "text/html": [
       "<div>\n",
       "<style scoped>\n",
       "    .dataframe tbody tr th:only-of-type {\n",
       "        vertical-align: middle;\n",
       "    }\n",
       "\n",
       "    .dataframe tbody tr th {\n",
       "        vertical-align: top;\n",
       "    }\n",
       "\n",
       "    .dataframe thead th {\n",
       "        text-align: right;\n",
       "    }\n",
       "</style>\n",
       "<table border=\"1\" class=\"dataframe\">\n",
       "  <thead>\n",
       "    <tr style=\"text-align: right;\">\n",
       "      <th></th>\n",
       "      <th>open</th>\n",
       "      <th>high</th>\n",
       "      <th>low</th>\n",
       "      <th>close</th>\n",
       "      <th>volume</th>\n",
       "    </tr>\n",
       "    <tr>\n",
       "      <th>date</th>\n",
       "      <th></th>\n",
       "      <th></th>\n",
       "      <th></th>\n",
       "      <th></th>\n",
       "      <th></th>\n",
       "    </tr>\n",
       "  </thead>\n",
       "  <tbody>\n",
       "    <tr>\n",
       "      <th>2025-07-20 01:00:00</th>\n",
       "      <td>117941.1</td>\n",
       "      <td>118132.5</td>\n",
       "      <td>117888.2</td>\n",
       "      <td>117937.6</td>\n",
       "      <td>155.174729</td>\n",
       "    </tr>\n",
       "    <tr>\n",
       "      <th>2025-07-20 02:00:00</th>\n",
       "      <td>117937.6</td>\n",
       "      <td>118022.2</td>\n",
       "      <td>117770.6</td>\n",
       "      <td>117988.2</td>\n",
       "      <td>134.616002</td>\n",
       "    </tr>\n",
       "    <tr>\n",
       "      <th>2025-07-20 03:00:00</th>\n",
       "      <td>117988.2</td>\n",
       "      <td>118175.7</td>\n",
       "      <td>117737.3</td>\n",
       "      <td>117965.2</td>\n",
       "      <td>247.589393</td>\n",
       "    </tr>\n",
       "    <tr>\n",
       "      <th>2025-07-20 04:00:00</th>\n",
       "      <td>117965.2</td>\n",
       "      <td>118138.0</td>\n",
       "      <td>117891.5</td>\n",
       "      <td>117960.9</td>\n",
       "      <td>111.669120</td>\n",
       "    </tr>\n",
       "    <tr>\n",
       "      <th>2025-07-20 05:00:00</th>\n",
       "      <td>117960.9</td>\n",
       "      <td>117987.4</td>\n",
       "      <td>117808.6</td>\n",
       "      <td>117857.4</td>\n",
       "      <td>83.502948</td>\n",
       "    </tr>\n",
       "    <tr>\n",
       "      <th>...</th>\n",
       "      <td>...</td>\n",
       "      <td>...</td>\n",
       "      <td>...</td>\n",
       "      <td>...</td>\n",
       "      <td>...</td>\n",
       "    </tr>\n",
       "    <tr>\n",
       "      <th>2025-07-24 00:00:00</th>\n",
       "      <td>118748.8</td>\n",
       "      <td>119120.5</td>\n",
       "      <td>118564.3</td>\n",
       "      <td>119047.7</td>\n",
       "      <td>351.878753</td>\n",
       "    </tr>\n",
       "    <tr>\n",
       "      <th>2025-07-24 01:00:00</th>\n",
       "      <td>119047.7</td>\n",
       "      <td>119099.9</td>\n",
       "      <td>118773.9</td>\n",
       "      <td>119079.4</td>\n",
       "      <td>177.439467</td>\n",
       "    </tr>\n",
       "    <tr>\n",
       "      <th>2025-07-24 02:00:00</th>\n",
       "      <td>119079.4</td>\n",
       "      <td>119079.4</td>\n",
       "      <td>118801.9</td>\n",
       "      <td>118954.7</td>\n",
       "      <td>208.666550</td>\n",
       "    </tr>\n",
       "    <tr>\n",
       "      <th>2025-07-24 03:00:00</th>\n",
       "      <td>118954.7</td>\n",
       "      <td>119263.9</td>\n",
       "      <td>118468.4</td>\n",
       "      <td>118494.8</td>\n",
       "      <td>392.553504</td>\n",
       "    </tr>\n",
       "    <tr>\n",
       "      <th>2025-07-24 04:00:00</th>\n",
       "      <td>118494.8</td>\n",
       "      <td>118578.8</td>\n",
       "      <td>118190.5</td>\n",
       "      <td>118383.4</td>\n",
       "      <td>154.218007</td>\n",
       "    </tr>\n",
       "  </tbody>\n",
       "</table>\n",
       "<p>100 rows × 5 columns</p>\n",
       "</div>"
      ],
      "text/plain": [
       "                         open      high       low     close      volume\n",
       "date                                                                   \n",
       "2025-07-20 01:00:00  117941.1  118132.5  117888.2  117937.6  155.174729\n",
       "2025-07-20 02:00:00  117937.6  118022.2  117770.6  117988.2  134.616002\n",
       "2025-07-20 03:00:00  117988.2  118175.7  117737.3  117965.2  247.589393\n",
       "2025-07-20 04:00:00  117965.2  118138.0  117891.5  117960.9  111.669120\n",
       "2025-07-20 05:00:00  117960.9  117987.4  117808.6  117857.4   83.502948\n",
       "...                       ...       ...       ...       ...         ...\n",
       "2025-07-24 00:00:00  118748.8  119120.5  118564.3  119047.7  351.878753\n",
       "2025-07-24 01:00:00  119047.7  119099.9  118773.9  119079.4  177.439467\n",
       "2025-07-24 02:00:00  119079.4  119079.4  118801.9  118954.7  208.666550\n",
       "2025-07-24 03:00:00  118954.7  119263.9  118468.4  118494.8  392.553504\n",
       "2025-07-24 04:00:00  118494.8  118578.8  118190.5  118383.4  154.218007\n",
       "\n",
       "[100 rows x 5 columns]"
      ]
     },
     "execution_count": 15,
     "metadata": {},
     "output_type": "execute_result"
    }
   ],
   "source": [
    "df.set_index('date', inplace = True) \n",
    "df"
   ]
  },
  {
   "cell_type": "markdown",
   "metadata": {},
   "source": [
    "mpf를 이용하여 plot해보자."
   ]
  },
  {
   "cell_type": "code",
   "execution_count": 17,
   "metadata": {},
   "outputs": [
    {
     "data": {
      "image/png": "[encoded data removed]",
      "text/plain": [
       "<Figure size 800x575 with 2 Axes>"
      ]
     },
     "metadata": {},
     "output_type": "display_data"
    }
   ],
   "source": [
    "mpf.plot(df, type = 'candle', volume = False, mav = (5, 20), style = 'yahoo')"
   ]
  }
 ],
 "metadata": {
  "kernelspec": {
   "display_name": "Python 3",
   "language": "python",
   "name": "python3"
  },
  "language_info": {
   "codemirror_mode": {
    "name": "ipython",
    "version": 3
   },
   "file_extension": ".py",
   "mimetype": "text/x-python",
   "name": "python",
   "nbconvert_exporter": "python",
   "pygments_lexer": "ipython3",
   "version": "3.13.2"
  }
 },
 "nbformat": 4,
 "nbformat_minor": 2
}
